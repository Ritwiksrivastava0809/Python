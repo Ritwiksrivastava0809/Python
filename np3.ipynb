{
 "cells": [
  {
   "cell_type": "markdown",
   "metadata": {},
   "source": [
    "RANDOM NUMBERS AND  STATISTICS"
   ]
  },
  {
   "cell_type": "code",
   "execution_count": 2,
   "metadata": {},
   "outputs": [
    {
     "data": {
      "text/plain": [
       "numpy.random._generator.Generator"
      ]
     },
     "execution_count": 2,
     "metadata": {},
     "output_type": "execute_result"
    }
   ],
   "source": [
    "from numpy import random\n",
    "\n",
    "rng = random.default_rng() #THIS INITIATES THE GENERATOR OBJECT\n",
    "type(rng)"
   ]
  },
  {
   "cell_type": "code",
   "execution_count": 3,
   "metadata": {},
   "outputs": [
    {
     "data": {
      "text/plain": [
       "array([ 2,  7,  3, 10,  6,  7,  6,  6,  0,  5,  1,  3,  4,  9,  5,  8,  2,\n",
       "        3,  7,  9], dtype=int64)"
      ]
     },
     "execution_count": 3,
     "metadata": {},
     "output_type": "execute_result"
    }
   ],
   "source": [
    "rng.integers(0,10,size=20,endpoint= \"True\")"
   ]
  },
  {
   "cell_type": "code",
   "execution_count": 4,
   "metadata": {},
   "outputs": [
    {
     "data": {
      "text/plain": [
       "array([1, 1, 1, 1, 0, 0, 0, 0, 1, 0, 0, 1, 0, 0, 1, 0, 1, 1, 0, 1, 1, 1,\n",
       "       0, 0, 0, 1, 1, 1, 0, 0, 1, 1, 1, 0, 0, 1, 1, 1, 0, 1, 0, 0, 0, 1,\n",
       "       1, 1, 0, 0, 0, 0, 0, 1, 1, 0, 0, 1, 0, 1, 1, 0, 1, 1, 0, 1],\n",
       "      dtype=int64)"
      ]
     },
     "execution_count": 4,
     "metadata": {},
     "output_type": "execute_result"
    }
   ],
   "source": [
    "# Random bits\n",
    "rng.integers(2,size=64)"
   ]
  },
  {
   "cell_type": "code",
   "execution_count": 5,
   "metadata": {},
   "outputs": [
    {
     "name": "stdout",
     "output_type": "stream",
     "text": [
      "[0.09670536 0.80709858 0.52923848 0.36742635 0.41946156 0.54301871\n",
      " 0.12093592 0.88117173 0.72338163 0.88452162 0.60374626 0.80073947\n",
      " 0.99333655 0.97165444 0.24649964 0.80059438 0.72573666 0.80047989\n",
      " 0.58145765 0.56111276 0.40905416 0.5944613  0.92889263 0.216897\n",
      " 0.08588368 0.36924294 0.97134272 0.33572278 0.15526483 0.67588627\n",
      " 0.36558133 0.75957574 0.96693382 0.31922611 0.52551233 0.78306932\n",
      " 0.46756165 0.58268924 0.27171838 0.89381518 0.63975    0.59689248\n",
      " 0.57232884 0.85286313 0.44364935 0.19041725 0.91152976 0.61746522\n",
      " 0.72431175 0.88568176]\n"
     ]
    }
   ],
   "source": [
    "# randomm floating point b/w two numbers\n",
    "float_val = rng.random(50)\n",
    "print(float_val)  "
   ]
  },
  {
   "cell_type": "code",
   "execution_count": 6,
   "metadata": {},
   "outputs": [
    {
     "data": {
      "text/plain": [
       "<matplotlib.collections.PathCollection at 0x1f09efd2280>"
      ]
     },
     "execution_count": 6,
     "metadata": {},
     "output_type": "execute_result"
    },
    {
     "data": {
      "image/png": "[encoded data removed]",
      "text/plain": [
       "<Figure size 432x288 with 1 Axes>"
      ]
     },
     "metadata": {
      "needs_background": "light"
     },
     "output_type": "display_data"
    }
   ],
   "source": [
    "import matplotlib.pyplot as plt\n",
    "x = rng.random(300)\n",
    "y = rng.random(300)\n",
    "\n",
    "plt.scatter(x,y)"
   ]
  },
  {
   "cell_type": "code",
   "execution_count": 12,
   "metadata": {},
   "outputs": [
    {
     "name": "stdout",
     "output_type": "stream",
     "text": [
      "[16 15 23 42  4  8]\n"
     ]
    }
   ],
   "source": [
    "# shuffle and choice\n",
    "import numpy as np\n",
    "\n",
    "val1 = np.array([4,8,15,16,23,42])\n",
    "\n",
    "rng.shuffle(val1)\n",
    "print(val1)    "
   ]
  },
  {
   "cell_type": "code",
   "execution_count": 25,
   "metadata": {},
   "outputs": [
    {
     "data": {
      "text/plain": [
       "array([42,  8, 16])"
      ]
     },
     "execution_count": 25,
     "metadata": {},
     "output_type": "execute_result"
    }
   ],
   "source": [
    "three_elements_from_arraay = rng.choice(val1 , 3 , replace = False)\n",
    "three_elements_from_arraay"
   ]
  },
  {
   "cell_type": "markdown",
   "metadata": {},
   "source": [
    "Random Numbers and Normal Distribution "
   ]
  },
  {
   "cell_type": "code",
   "execution_count": 41,
   "metadata": {},
   "outputs": [
    {
     "name": "stdout",
     "output_type": "stream",
     "text": [
      "[1.75812171 1.73610771 1.80038433 1.62248344 1.73964333 1.5534982\n",
      " 1.71284749 1.64059257 1.67075779 1.63326788 1.80668037 1.6748556\n",
      " 1.94692677 1.685628   1.68328093 1.81260684 1.49558372 1.62268856\n",
      " 1.66976913 1.95362869 1.83199698 1.70697069 1.65200284 1.42720174\n",
      " 1.74596458 1.96247625 1.85466224 1.64642062 1.67206211 1.53358349\n",
      " 1.76622259 1.8213247  1.54659919 1.65087477 1.78553263 1.61961258\n",
      " 1.72455131 1.65757835 1.74575177 1.66758631 1.78072983 1.65596585\n",
      " 1.70068963 1.96887996 1.83635714 1.85246602 1.58192749 1.57180238\n",
      " 1.71724444 1.58774405 1.74256345 1.55124805 1.78779093 1.97891399\n",
      " 1.81044753 1.71831306 1.96762892 2.07784054 1.79530472 1.7716492\n",
      " 1.57132263 1.94990182 1.68173736 1.78686941 1.61761295 1.78161383\n",
      " 1.98311062 1.7080497  1.70049192 1.67914627 1.76283731 1.84171357\n",
      " 1.59788907 1.5999104  1.93183949 1.49938597 1.80783842 1.67239399\n",
      " 1.55241817 1.90239041 1.91842449 1.82470361 1.54074126 1.68196035\n",
      " 1.9447181  2.03173843 1.85027105 1.22458086 1.88537956 1.61653197\n",
      " 1.941823   1.95199084 2.00042178 1.65615594 1.83840066 1.61278585\n",
      " 1.64087639 1.47861115 1.62463797 1.59631154]\n"
     ]
    }
   ],
   "source": [
    "#we can draw normally distributed random numbers\n",
    "\n",
    "heighgt = rng.normal(1.75,0.15,100)\n",
    "print(heighgt)"
   ]
  },
  {
   "cell_type": "code",
   "execution_count": 34,
   "metadata": {},
   "outputs": [
    {
     "data": {
      "text/plain": [
       "Text(0.5, 1.0, 'Normal distribution')"
      ]
     },
     "execution_count": 34,
     "metadata": {},
     "output_type": "execute_result"
    },
    {
     "data": {
      "image/png": "[encoded data removed]",
      "text/plain": [
       "<Figure size 432x288 with 1 Axes>"
      ]
     },
     "metadata": {
      "needs_background": "light"
     },
     "output_type": "display_data"
    }
   ],
   "source": [
    "# Drwaing hisogram of normallly distributed number\n",
    "y = rng.normal(1.75,0.15,1000)\n",
    "plt.hist(y,bins=20)\n",
    "plt.title(\"Normal distribution\")\n"
   ]
  },
  {
   "cell_type": "code",
   "execution_count": 43,
   "metadata": {},
   "outputs": [
    {
     "data": {
      "text/plain": [
       "(array([ 0,  2,  3,  4,  5,  6,  7,  8, 23, 24, 45, 46, 78]),\n",
       " array([1, 2, 1, 5, 2, 2, 2, 1, 2, 1, 1, 1, 1], dtype=int64))"
      ]
     },
     "execution_count": 43,
     "metadata": {},
     "output_type": "execute_result"
    }
   ],
   "source": [
    "array = np.array([4,4,5,5,2,4,6,8,0,4,2,3,4,6,7,7,23,23,45,78,24,46,])\n",
    "np.unique(array , return_counts=True)"
   ]
  },
  {
   "cell_type": "code",
   "execution_count": 44,
   "metadata": {},
   "outputs": [
    {
     "data": {
      "text/plain": [
       "<BarContainer object of 13 artists>"
      ]
     },
     "execution_count": 44,
     "metadata": {},
     "output_type": "execute_result"
    },
    {
     "data": {
      "image/png": "[encoded data removed]",
      "text/plain": [
       "<Figure size 432x288 with 1 Axes>"
      ]
     },
     "metadata": {
      "needs_background": "light"
     },
     "output_type": "display_data"
    }
   ],
   "source": [
    "unique_val , counts = np.unique(array , return_counts=True)\n",
    "plt.bar(unique_val,counts)"
   ]
  },
  {
   "cell_type": "code",
   "execution_count": null,
   "metadata": {},
   "outputs": [],
   "source": []
  }
 ],
 "metadata": {
  "kernelspec": {
   "display_name": "Python 3.9.9 64-bit",
   "language": "python",
   "name": "python3"
  },
  "language_info": {
   "codemirror_mode": {
    "name": "ipython",
    "version": 3
   },
   "file_extension": ".py",
   "mimetype": "text/x-python",
   "name": "python",
   "nbconvert_exporter": "python",
   "pygments_lexer": "ipython3",
   "version": "3.9.9"
  },
  "orig_nbformat": 4,
  "vscode": {
   "interpreter": {
    "hash": "e7370f93d1d0cde622a1f8e1c04877d8463912d04d973331ad4851f04de6915a"
   }
  }
 },
 "nbformat": 4,
 "nbformat_minor": 2
}
