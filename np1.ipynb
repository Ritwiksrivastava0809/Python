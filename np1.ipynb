{
 "cells": [
  {
   "cell_type": "markdown",
   "metadata": {},
   "source": [
    "TIME LIST ARRAY VS NUMPY ARRAY"
   ]
  },
  {
   "cell_type": "code",
   "execution_count": null,
   "metadata": {},
   "outputs": [],
   "source": [
    "import numpy as np\n",
    "import array\n",
    "%timeit [j**4 for j in range(1,9)]"
   ]
  },
  {
   "cell_type": "code",
   "execution_count": null,
   "metadata": {},
   "outputs": [],
   "source": [
    "%timeit np.arange(1, 9)**4"
   ]
  },
  {
   "cell_type": "markdown",
   "metadata": {},
   "source": [
    "ARRAY"
   ]
  },
  {
   "cell_type": "code",
   "execution_count": null,
   "metadata": {},
   "outputs": [],
   "source": [
    "# To create a array in numpy\n",
    "# Use function np.array() and pass the list in the argument\n",
    "# .ndim function used to check the dimesnsion of the array\n",
    "a = np.array([1, 2, 3])\n",
    "print(a, type(a), a.ndim)\n",
    "\n",
    "# To take arrray as an input from the user\n",
    "l = []\n",
    "for i in range(5):\n",
    "    a = int(input(\"Enter the data : \"))\n",
    "    l.append(a)\n",
    "b = np.array(l)\n",
    "print(b)\n",
    "\n",
    "# 2-d array\n",
    "a = np.array([[1, 2, 3, 4],\n",
    "              [5, 6, 7, 8]])\n",
    "\n",
    "print(a, \"\\n No. of rows : \", a.ndim)\n",
    "\n",
    "# ndmin  creates an array of gives dimensions\n",
    "arn = np.array([1, 2, 3, 4], ndmin=10)\n",
    "print(arn, arn.ndim)\n"
   ]
  },
  {
   "cell_type": "markdown",
   "metadata": {},
   "source": [
    "DIFF ARRAY FUNCTION"
   ]
  },
  {
   "cell_type": "code",
   "execution_count": null,
   "metadata": {},
   "outputs": [],
   "source": [
    "import numpy as np\n",
    "\n",
    "# array filled with 0\n",
    "ar_zero = np.zeros(4)\n",
    "ar_zero1 = np.zeros((3, 4))\n",
    "print(ar_zero)\n",
    "print()\n",
    "print(\"an array of zeros of dimension = {}\".format(ar_zero1.ndim), \"\\n\", ar_zero1)\n",
    "\n",
    "# array filled with 1\n",
    "ar_ones = np.ones(4)\n",
    "ar_ones1 = np.ones((3, 4))\n",
    "print()\n",
    "print(ar_ones)\n",
    "print()\n",
    "print(\"an array of ones of dimension = {}\".format(ar_ones1.ndim), \"\\n\", ar_ones1)\n",
    "\n",
    "# create an empty array\n",
    "ar_empty = np.empty(4)\n",
    "ar_empty1 = np.empty((3, 4))\n",
    "print()\n",
    "print(ar_empty)\n",
    "print()\n",
    "print(\"an empty array of dimension = {}\".format(\n",
    "    ar_empty1.ndim), \"\\n\", ar_empty1)\n",
    "\n",
    "# an arrray with a range of elements\n",
    "ar = np.arange(4)\n",
    "print()\n",
    "print(ar)\n",
    "\n",
    "# an array filled with diagnal elemenets 1\n",
    "ar_dia = np.eye(5, 5)\n",
    "print(\"\\n\", ar_dia, \"\\n\")\n",
    "\n",
    "# an array with values that are spaced linearly in a specified interval\n",
    "ar_lin = np.linspace(0, 20, num=5)\n",
    "print(ar_lin)\n"
   ]
  },
  {
   "cell_type": "markdown",
   "metadata": {},
   "source": [
    "AGREGATE FUNCTION"
   ]
  },
  {
   "cell_type": "code",
   "execution_count": null,
   "metadata": {},
   "outputs": [],
   "source": [
    "import numpy as np\n",
    "\n",
    "val = np.array([1,2,3,4,5,6,7,8])\n",
    "# take the sum of all numbers\n",
    "# print(dir(val))\n",
    "# Find sum\n",
    "sum1 = np.sum(val)\n",
    "print(\"Sum : \",sum1)\n",
    "# mean\n",
    "mean1 = np.mean(val)\n",
    "print(\"Mean : \",mean1)\n",
    "# product\n",
    "prod1 = np.prod(val)\n",
    "print(\"Product : \",prod1)\n",
    "# min max\n",
    "print(\"Max : \",np.max(val))\n",
    "print(\"Min : \",np.min(val))\n",
    "# Argmax/Argmin\n",
    "print(\"Max position : \",np.argmax(val))\n",
    "print(\"Min position : \",np.argmin(val))"
   ]
  },
  {
   "cell_type": "markdown",
   "metadata": {},
   "source": [
    "RANDOM VALUES"
   ]
  },
  {
   "cell_type": "code",
   "execution_count": null,
   "metadata": {},
   "outputs": [],
   "source": [
    "# Create numpy array with random element\n",
    "# rand() : this function used to generate random values b/w 0 to 1\n",
    "# randn() : this function is used to generate a random value close to 0.This may return + or - values as well\n",
    "# ranf() : this function is used to generate a random sampling in numpy.It return an array of specified shape\n",
    "# and fills it with random floats in the half open interval of range[0,1)\n",
    "# randint() : this function is used to generate a random value b/w a given range\n",
    "\n",
    "import numpy as np\n",
    "import random\n",
    "\n",
    "var = np.random.rand(10)\n",
    "print(var)\n",
    "var1 = np.random.rand(2, 5)\n",
    "print(\"\\n\", var1)\n",
    "print()\n",
    "var2 = np.random.randn()\n",
    "print(\"\\n\", var2)\n",
    "var3 = np.random.randn(5)\n",
    "print(\"\\n\", var3)\n",
    "print()\n",
    "var4 = np.random.ranf()\n",
    "print(\"\\n\", var4)\n",
    "var5 = np.random.ranf(5)\n",
    "print(\"\\n\", var5)\n",
    "print()\n",
    "min = 1\n",
    "max = 100\n",
    "total_values = 10\n",
    "var6 = np.random.randint(min, max, total_values)\n",
    "print(\"\\n\", var6)\n"
   ]
  },
  {
   "cell_type": "markdown",
   "metadata": {},
   "source": [
    "DATA TYPE"
   ]
  },
  {
   "cell_type": "code",
   "execution_count": null,
   "metadata": {},
   "outputs": [],
   "source": [
    "import string\n",
    "import numpy as np\n",
    "\n",
    "var = np.array([1, 2, 3, 4])\n",
    "print(\"Data type : \", var.dtype)\n",
    "print()\n",
    "\n",
    "var1 = np.array([1.3, 2.3, 3.2, 4.5])\n",
    "print(\"Data type : \", var1.dtype)\n",
    "print()\n",
    "\n",
    "var2 = np.array([\"2\", \"s\", \"e\"])\n",
    "print(\"Data type : \", var2.dtype)\n",
    "print()\n",
    "\n",
    "var3 = np.array([1, 2, 34, \"a\", \"4\", \"df\"])\n",
    "print(\"Data type : \", var3.dtype)\n",
    "print()\n",
    "\n",
    "x = np.array([1, 2, 3, 4], dtype=np.int8)\n",
    "print(\"Data Type : \", x.dtype)\n",
    "print(x)\n",
    "print()\n",
    "\n",
    "x1 = np.array([1, 2, 3, 4], dtype=\"f\")\n",
    "print(\"Data Type : \", x1.dtype)\n",
    "print(x1)\n",
    "print()\n",
    "\n",
    "x2 = np.array([1, 2, 3, 4])\n",
    "new = np.float32(x2)\n",
    "print(\"Data Type : \", x2.dtype)\n",
    "print(\"Data Type : \", new.dtype)\n",
    "print(x2)\n",
    "print(new)\n",
    "print()\n",
    "\n",
    "x3 = np.array([1, 2, 3, 4])\n",
    "new_one = x3.astype(str)\n",
    "print(\"Data Type : \", x3.dtype)\n",
    "print(\"Data Type : \", new_one.dtype)\n",
    "print(x3)\n",
    "print(new_one)\n"
   ]
  },
  {
   "cell_type": "markdown",
   "metadata": {},
   "source": [
    "SHAPE"
   ]
  },
  {
   "cell_type": "code",
   "execution_count": null,
   "metadata": {},
   "outputs": [],
   "source": [
    "import numpy as np\n",
    "\n",
    "var = np.array([[1, 2, 6, 7], [3, 4, 8, 9]])\n",
    "\n",
    "print(var, \"\\n\", var.shape)\n",
    "\n",
    "var1 = np.array([1, 2, 3, 4], ndmin=4)\n",
    "\n",
    "print(var1, \"\\n\", var1.ndim, \"\\n\", var1.shape)\n"
   ]
  },
  {
   "cell_type": "markdown",
   "metadata": {},
   "source": [
    "RESHAPE"
   ]
  },
  {
   "cell_type": "code",
   "execution_count": null,
   "metadata": {},
   "outputs": [],
   "source": [
    "var2 = np.array([1, 2, 3, 4, 5, 6])\n",
    "print(var2)\n",
    "x = var2.reshape(2, 3)\n",
    "print(x)\n",
    "print()\n",
    "\n",
    "var3 = np.array([1, 2, 3, 4, 5, 6, 7, 8, 9, 10, 11, 12])\n",
    "print(var3)\n",
    "y = var3.reshape(2, 3, 2)\n",
    "print(y)\n"
   ]
  },
  {
   "cell_type": "markdown",
   "metadata": {},
   "source": [
    "ARITHMETIC OPERATION"
   ]
  },
  {
   "cell_type": "code",
   "execution_count": null,
   "metadata": {},
   "outputs": [],
   "source": [
    "import numpy as np\n",
    "var = np.array([1, 2, 3, 4])\n",
    "var_add = var + 3\n",
    "print(var_add)\n",
    "print()\n",
    "\n",
    "var1 = np.array([1, 2, 3, 4])\n",
    "var2 = np.array([5, 6, 7, 8])\n",
    "var_add2 = var1 + var2\n",
    "print(var_add2)\n",
    "print()\n",
    "\n",
    "var3 = np.array([1, 2, 3, 4])\n",
    "var4 = np.array([5, 6, 7, 8])\n",
    "var_add3 = var4 - var3\n",
    "print(var_add3)\n",
    "print()\n",
    "\n",
    "var5 = np.array([1, 2, 3, 4])\n",
    "var_add4 = var * 3\n",
    "print(var_add4)\n",
    "print()\n",
    "\n",
    "var6 = np.array([1, 2, 3, 4])\n",
    "var_add5 = var % 3\n",
    "print(var_add5)\n",
    "print()\n",
    "\n",
    "var7 = np.array([1, 2, 3, 4])\n",
    "var_add6 = var // 3\n",
    "print(var_add6)\n",
    "print()\n",
    "\n",
    "var3 = np.array([1, 2, 3, 4])\n",
    "var4 = np.array([5, 6, 7, 8])\n",
    "vark = np.add(var3, var4)\n",
    "print(vark)\n",
    "print()\n",
    "\n",
    "var3 = np.array([1, 2, 3, 4])\n",
    "var4 = np.array([5, 6, 7, 8])\n",
    "vark = np.multiply(var3, var4)\n",
    "print(vark)\n",
    "print()\n",
    "\n",
    "var3 = np.array([1, 2, 3, 4])\n",
    "var4 = np.array([5, 6, 7, 8])\n",
    "vark = np.subtract(var3, var4)\n",
    "print(vark)\n",
    "print()\n",
    "\n",
    "var3 = np.array([1, 2, 3, 4])\n",
    "var4 = np.array([5, 6, 7, 8])\n",
    "vark = np.divide(var3, var4)\n",
    "print(vark)\n",
    "print()\n",
    "\n",
    "var3 = np.array([1, 2, 3, 4])\n",
    "var4 = np.array([5, 6, 7, 8])\n",
    "vark = np.mod(var3, var4)\n",
    "print(vark)\n",
    "print()\n",
    "\n",
    "# 2-DIMENSION ARRAY\n",
    "# axes 0 = vertical axes\n",
    "# axes 1 = horizontal axes\n",
    "var2d = np.array([[1, 2, 3, 4], [5, 6, 7, 8]])\n",
    "var2d1 = np.array([[1, 2, 3, 4], [5, 6, 7, 8]])\n",
    "\n",
    "res = var2d + var2d1\n",
    "print(res)\n",
    "print()\n",
    "\n",
    "var2d = np.array([[1, 2, 3, 4], [5, 6, 7, 8]])\n",
    "var2d1 = np.array([[1, 2, 3, 4], [5, 6, 7, 8]])\n",
    "\n",
    "res = var2d - var2d1\n",
    "print(res)\n",
    "print()\n",
    "\n",
    "var2d = np.array([[1, 2, 3, 4], [5, 6, 7, 8]])\n",
    "var2d1 = np.array([[1, 2, 3, 4], [5, 6, 7, 8]])\n",
    "\n",
    "res = var2d * var2d1\n",
    "print(res)\n",
    "print()\n",
    "\n",
    "var2d = np.array([[1, 2, 3, 4], [5, 6, 7, 8]])\n",
    "var2d1 = np.array([[1, 2, 3, 4], [5, 6, 7, 8]])\n",
    "\n",
    "res = var2d / var2d1\n",
    "print(res)\n",
    "print()\n",
    "\n",
    "var2d = np.array([[1, 2, 3, 4], [5, 6, 7, 8]])\n",
    "var2d1 = np.array([[1, 2, 3, 4], [5, 6, 7, 8]])\n",
    "\n",
    "res = var2d % var2d1\n",
    "print(res)\n",
    "print()\n",
    "\n",
    "var2d = np.array([[1, 2, 3, 4], [5, 6, 7, 8]])\n",
    "var2d1 = np.array([[1, 2, 3, 4], [5, 6, 7, 8]])\n",
    "\n",
    "res = var2d // var2d1\n",
    "print(res)\n",
    "print()\n",
    "\n",
    "var2d = np.array([[1, 2, 3, 4], [5, 6, 7, 8]])\n",
    "\n",
    "res = np.reciprocal(var2d)\n",
    "print(res)\n",
    "print()\n"
   ]
  },
  {
   "cell_type": "code",
   "execution_count": null,
   "metadata": {},
   "outputs": [],
   "source": [
    "from cmath import sqrt\n",
    "import numpy as np\n",
    "\n",
    "var = np.array([1, 2, 3, 4, 5, 3, 2])\n",
    "res = np.max(var)\n",
    "res1 = np.min(var)\n",
    "print(\"max :\", res, \"index no:  \", np.argmax(var))\n",
    "print(\"min: \", res1, \"index no:  \", np.argmin(var))\n",
    "\n",
    "var1 = np.array([[2, 1, 3], [9, 5, 3]])\n",
    "print(np.min(var1, axis=0))\n",
    "# axis mein 0 mtlb coloumn and 1 mtlb row\n",
    "print(np.max(var1, axis=1))\n",
    "\n",
    "print(np.sqrt(var1))\n",
    "\n",
    "print(np.sin(var1))\n",
    "\n",
    "print(np.cos(var1))\n",
    "\n",
    "print(np.cumsum(var1))\n"
   ]
  },
  {
   "cell_type": "markdown",
   "metadata": {},
   "source": [
    "BRODCASTING "
   ]
  },
  {
   "cell_type": "code",
   "execution_count": null,
   "metadata": {},
   "outputs": [],
   "source": [
    "import numpy as np\n",
    "\n",
    "var = np.array([1, 2, 3, 4])\n",
    "var1 = np.array([[1], [2], [3], [4]])\n",
    "print(var)\n",
    "print()\n",
    "print(var1)\n",
    "print()\n",
    "print(var1+var)\n"
   ]
  },
  {
   "cell_type": "markdown",
   "metadata": {},
   "source": [
    "INDEXING AND SLICING"
   ]
  },
  {
   "cell_type": "code",
   "execution_count": null,
   "metadata": {},
   "outputs": [],
   "source": [
    "import numpy as np\n",
    "\n",
    "var = np.array([1, 2, 3, 4])\n",
    "for i in range(len(var)):\n",
    "    print(i, \" -> \", var[i])\n",
    "\n",
    "var1 = np.array([[1, 2, 3, 4], [5, 6, 7, 8]])\n",
    "print(var1, \"\\n\", var1.shape)\n",
    "for i in range(len(var1)):\n",
    "    for j in range(0, len(var1[i])):\n",
    "        print(\"row: {}\".format(i), \",\",\n",
    "              \"coloumn: {}\".format(j), \"->\", var1[i][j])\n",
    "\n",
    "var2 = np.arange(0, 12).reshape(2, 3, 2)\n",
    "for i in range(len(var2)):\n",
    "    for j in range(len(var2[i])):\n",
    "        for k in range(len(var2[i][j])):\n",
    "            print(var2[i][j][k])\n"
   ]
  },
  {
   "cell_type": "code",
   "execution_count": null,
   "metadata": {},
   "outputs": [],
   "source": [
    "import numpy as np\n",
    "\n",
    "var = np.array([1, 2, 3, 4, 5, 6, 7, 8])\n",
    "print()\n",
    "print(var[2::2])\n",
    "print()\n",
    "\n",
    "var2 = np.arange(0, 12).reshape(3, 4)\n",
    "print(var2)\n",
    "print(var2[1, 0:3:2])\n"
   ]
  },
  {
   "cell_type": "code",
   "execution_count": null,
   "metadata": {},
   "outputs": [],
   "source": [
    "var2 = np.arange(0, 12).reshape(2, 3, 2)\n",
    "# buffered gives you extra spave to store data so that typcasting is performed\n",
    "for i in np.nditer(var2, flags=[\"buffered\"], op_dtypes=[\"S\"]):\n",
    "    print(i)\n",
    "\n",
    "var2 = np.arange(0, 12).reshape(2, 3, 2)\n",
    "# ndenumerate gievs the elements with there indexing\n",
    "for i, d in np.ndenumerate(var2):\n",
    "    print(i, \"->\", d)\n"
   ]
  },
  {
   "cell_type": "markdown",
   "metadata": {},
   "source": [
    "JOIN AND SPLIT"
   ]
  },
  {
   "cell_type": "code",
   "execution_count": null,
   "metadata": {},
   "outputs": [],
   "source": [
    "import numpy as np\n",
    "\n",
    "var = np.array([1, 2, 3, 4])\n",
    "var1 = np.array([5, 6, 7, 8])\n",
    "\n",
    "ar = np.concatenate((var, var1))\n",
    "print(ar)\n",
    "print()\n",
    "\n",
    "var2 = np.array([[1, 2], [3, 4]])\n",
    "var3 = np.array([[5, 6], [7, 8]])\n",
    "\n",
    "ar1 = np.concatenate((var2, var3), axis=1)\n",
    "print(ar1)\n",
    "print()\n",
    "\n",
    "var4 = np.array([1, 2, 3, 4])\n",
    "var5 = np.array([5, 6, 7, 8])\n",
    "\n",
    "ar2 = np.stack((var4, var5))\n",
    "ar21 = np.hstack((var4, var5))  # along row\n",
    "ar22 = np.vstack((var4, var5))  # along coloumn\n",
    "ar23 = np.dstack((var4, var5))  # along height\n",
    "print(ar2, \"\\n\\n\", ar21, \"\\n\\n \", ar22, \"\\n\\n \", ar23)\n"
   ]
  },
  {
   "cell_type": "code",
   "execution_count": null,
   "metadata": {},
   "outputs": [],
   "source": [
    "import numpy as np\n",
    "\n",
    "var = np.arange(1, 7)\n",
    "print(var)\n",
    "\n",
    "arr = np.array_split(var, 3)\n",
    "print(arr)\n",
    "\n",
    "for i in range(len(arr)):\n",
    "    print(arr[i], end=\"    \")\n",
    "print()\n",
    "for i in range(len(arr)):\n",
    "    for j in range(0, len(arr[i])):\n",
    "        print(arr[i][j], end=\"    \")\n",
    "print()\n",
    "\n",
    "var2 = np.arange(1, 7).reshape(3, 2)\n",
    "arr_new = np.array_split(var2,3)\n",
    "arr2 = np.array_split(var2,3,axis=1)\n",
    "print(arr_new)\n",
    "print()\n",
    "print(arr2)\n",
    "\n"
   ]
  },
  {
   "cell_type": "markdown",
   "metadata": {},
   "source": [
    "SEARCH SORT"
   ]
  },
  {
   "cell_type": "code",
   "execution_count": null,
   "metadata": {},
   "outputs": [],
   "source": [
    "import numpy as np\n",
    "\n",
    "var = np.array([4,2,3,5,4,2,3,5,8,9,2,3,4])\n",
    "x = np.where(var%2 == 0)\n",
    "print(x)\n",
    "y = np.sort(var)\n",
    "print(\"\\n\\n\",y)\n",
    "var1 = np.array([1,2,3,4,6,7,8,9])\n",
    "x1 = np.searchsorted(var1 , [2,5,10] , side=\"right\")\n",
    "print(\"\\n\\n\",x1)\n",
    "\n",
    "var2 = np.array([[4,2,3],[1,12,5],[22,52,6]])\n",
    "print(\"\\n\\n\",np.sort(var2))"
   ]
  },
  {
   "cell_type": "markdown",
   "metadata": {},
   "source": [
    "FILLTER ARRAY"
   ]
  },
  {
   "cell_type": "code",
   "execution_count": null,
   "metadata": {},
   "outputs": [],
   "source": [
    "import numpy as np\n",
    "\n",
    "var = np.array(['a','s','d','f'])\n",
    "f = [True,False,False,True]\n",
    "new_a = var[f]\n",
    "\n",
    "print(new_a)\n"
   ]
  },
  {
   "cell_type": "markdown",
   "metadata": {},
   "source": [
    "NUMPY ARRAY FUNCTION"
   ]
  },
  {
   "cell_type": "code",
   "execution_count": null,
   "metadata": {},
   "outputs": [],
   "source": [
    "import numpy as np\n",
    "# performs random shuffling of the elements in the array\n",
    "var  = np.array([1,2,3,4,5])\n",
    "np.random.shuffle(var)\n",
    "print(var)\n",
    "# returns the unique value frim the array\n",
    "var1 = np.array([1,2,3,4,2,5,2,6,2,7])\n",
    "x = np.unique(var1,return_index=\"True\",return_counts=\"True\")\n",
    "print(x)\n",
    "# resise the array in desired order\n",
    "var2 = np.array([1,2,3,4,5,6,7])\n",
    "y = np.resize(var2,(3,2))\n",
    "print(y)\n",
    "# converts 2-d array in 1-d array with ordering \n",
    "print(\"Flatten : \",y.flatten(order=\"F\")) #F means flatten in column major\n",
    "print(\"Flatten : \",y.flatten(order=\"c\")) #c means flatten in row major\n",
    "print(\"Ravel : \",np.ravel(y))\n",
    "print(\"Ravel : \",np.ravel(y,order=\"f\"))"
   ]
  },
  {
   "cell_type": "markdown",
   "metadata": {},
   "source": [
    "INSERT AND DELETE"
   ]
  },
  {
   "cell_type": "code",
   "execution_count": null,
   "metadata": {},
   "outputs": [],
   "source": [
    "import numpy as np\n",
    "#inserts take 3 agrguments 1st variable then position then value\n",
    "var = np.arange(0,7)\n",
    "print(var,np.dtype)\n",
    "v = np.insert(var,(7,3),(7,9))\n",
    "print(v,\"\\n\\n\")\n",
    "var1 = np.array([[1,2,3],\n",
    "                 [4,5,6]])\n",
    "v1 = np.insert(var1,2,7,axis=1)\n",
    "print(v1,\"\\n\\n\")\n",
    "v1 = np.insert(var1,2,7,axis=0)\n",
    "print(v1,\"\\n\\n\")\n",
    "v1 = np.insert(var1,2,[22,23],axis=1)\n",
    "print(v1,\"\\n\\n\")\n",
    "v1 = np.insert(var1,2,[22,23,24],axis=0)\n",
    "print(v1,\"\\n\\n\")\n",
    "print(np.append(var1,[[7,8,9]],axis = 0))"
   ]
  },
  {
   "cell_type": "code",
   "execution_count": null,
   "metadata": {},
   "outputs": [],
   "source": [
    "# deletion of elements in array\n",
    "val = np.array([1,2,3,4,5])\n",
    "print(val)\n",
    "d = np.delete(val,2)\n",
    "print(d,\"\\n\\n\")\n",
    "var1 = np.array([[1,2,3],\n",
    "                 [4,5,6]])\n",
    "v1 = np.delete(var1,2,axis=1)\n",
    "print(v1,\"\\n\\n\")\n",
    "v1 = np.delete(var1,1,axis=0)\n",
    "print(v1,\"\\n\\n\")\n"
   ]
  },
  {
   "cell_type": "markdown",
   "metadata": {},
   "source": [
    "NUMPY MATRIX"
   ]
  },
  {
   "cell_type": "code",
   "execution_count": null,
   "metadata": {},
   "outputs": [],
   "source": [
    "import numpy as np\n",
    "\n",
    "val = np.arange(1,7).reshape(2,3)\n",
    "print(\"2x3 matrix with array\\n\",val)\n",
    "print(type(val))\n",
    "print()\n",
    "val1 = np.matrix([[1,2,3],\n",
    "                  [4,5,6],\n",
    "                  [7,8,9]])\n",
    "val2 = np.matrix([[1,2,3],\n",
    "                  [4,5,6],\n",
    "                  [7,8,9]])\n",
    "print(\"2x3 matrix with matrix func\\n\",val1)\n",
    "print(type(val1))\n",
    "print()\n",
    "print(\"Dot product of two matrix\\n\",np.dot(val1,val2))\n",
    "print()\n",
    "print(\"Cross product of two matrix\\n\",np.multiply(val1,val2))"
   ]
  },
  {
   "cell_type": "markdown",
   "metadata": {},
   "source": [
    "MATRIX OPERATION"
   ]
  },
  {
   "cell_type": "code",
   "execution_count": null,
   "metadata": {},
   "outputs": [],
   "source": [
    "import numpy as np\n",
    "\n",
    "val1 = np.matrix([[1,2,3],\n",
    "                  [4,5,6],\n",
    "                  [7,8,9]])\n",
    "print(val1)\n",
    "print()\n",
    "# Transpose\n",
    "print(\"Transpose of a matrix: \\n\",np.transpose(val1))\n",
    "# you can also use print(val1.T)\n",
    "# swapaxes\n",
    "print()\n",
    "print(\"swapaxes : \\n\",np.swapaxes(val1,0,1))\n",
    "# inverse matrix\n",
    "val2 = np.matrix([[1,2],\n",
    "                  [3,4]])\n",
    "print(\"\\n\",val2)\n",
    "print(\"\\nInverse of the above matrix: \\n\",np.linalg.inv(val2))\n",
    "# power of matrix A^2 = AxA\n",
    "print()\n",
    "n=2\n",
    "print(\"power of matrix : \\n\",np.linalg.matrix_power(val2,n))\n",
    "# n can be n<0,n>0,n==0\n",
    "# when n == 0 it gives identity matrix\n",
    "print()\n",
    "print(\"identity of matrix : \\n\",np.linalg.matrix_power(val2,0))\n",
    "# If n > 0 then multiplication will happen\n",
    "# if n < 0  then inverse x power\n",
    "print()\n",
    "print(val2)\n",
    "print(\"\\n\",np.linalg.matrix_power(val2,2))\n",
    "print(\"\\n\",np.linalg.matrix_power(val2,-2))\n",
    "\n",
    "# Determinent\n",
    "print()\n",
    "print(\"Determinent : \\n\",np.linalg.det(val2))"
   ]
  }
 ],
 "metadata": {
  "kernelspec": {
   "display_name": "Python 3.9.9 64-bit",
   "language": "python",
   "name": "python3"
  },
  "language_info": {
   "codemirror_mode": {
    "name": "ipython",
    "version": 3
   },
   "file_extension": ".py",
   "mimetype": "text/x-python",
   "name": "python",
   "nbconvert_exporter": "python",
   "pygments_lexer": "ipython3",
   "version": "3.9.9"
  },
  "orig_nbformat": 4,
  "vscode": {
   "interpreter": {
    "hash": "e7370f93d1d0cde622a1f8e1c04877d8463912d04d973331ad4851f04de6915a"
   }
  }
 },
 "nbformat": 4,
 "nbformat_minor": 2
}
